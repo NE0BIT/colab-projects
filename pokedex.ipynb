{
  "nbformat": 4,
  "nbformat_minor": 0,
  "metadata": {
    "colab": {
      "provenance": []
    },
    "kernelspec": {
      "name": "python3",
      "display_name": "Python 3"
    },
    "language_info": {
      "name": "python"
    }
  },
  "cells": [
    {
      "cell_type": "code",
      "execution_count": null,
      "metadata": {
        "id": "KG76Tfoa6t7Y"
      },
      "outputs": [],
      "source": [
        "# @title Library importing\n",
        "from time import sleep\n",
        "import sys\n",
        "import requests"
      ]
    },
    {
      "cell_type": "code",
      "source": [
        "# @title Object and class definitions\n",
        "class Pokemon:\n",
        "  def __init__(self, name, id, p_type, abilities):\n",
        "    self.name = name\n",
        "    self.id = id\n",
        "    self.p_type = p_type\n",
        "    self.abilities = abilities"
      ],
      "metadata": {
        "cellView": "form",
        "id": "pzZd7MTE_2-H"
      },
      "execution_count": null,
      "outputs": []
    },
    {
      "cell_type": "code",
      "source": [
        "# @title Get the data from PokeApi (https://pokeapi.co/)\n",
        "def get_pokemon_data(pokemon_identifier):\n",
        "    response = requests.get(f'https://pokeapi.co/api/v2/pokemon/{pokemon_identifier}')\n",
        "    data = response.json()\n",
        "\n",
        "    name = data['name'].capitalize()\n",
        "    id = data['id']\n",
        "    p_type = ', '.join([type_info['type']['name'].capitalize() for type_info in data['types']])\n",
        "    abilities = ', '.join([type_info['ability']['name'].capitalize() for type_info in data['abilities']])\n",
        "\n",
        "    return Pokemon(name, id, p_type, abilities)"
      ],
      "metadata": {
        "cellView": "form",
        "id": "9hsRnIEoPHgC"
      },
      "execution_count": null,
      "outputs": []
    },
    {
      "cell_type": "code",
      "source": [
        "# @title Functions for text interface\n",
        "def slprint(txt):\n",
        "  for i, letter in enumerate(txt):\n",
        "    print(letter, end='', flush=True)\n",
        "    sleep(max(0.3 - i*0.005, 0))"
      ],
      "metadata": {
        "cellView": "form",
        "id": "w4sreOiiPS0x"
      },
      "execution_count": null,
      "outputs": []
    },
    {
      "cell_type": "code",
      "source": [
        "# @title Data use and formating\n",
        "def g_search_pokemon():\n",
        "  try:\n",
        "    pokemon = get_pokemon_data(input(\"Name or Id of the Pokemon: \"))\n",
        "    slprint(f'Name: {pokemon.name}\\nID: {pokemon.id}\\nTypes: {pokemon.p_type}\\nAbilities: {pokemon.abilities}')\n",
        "  except:\n",
        "    print('Error, perhaps you wrote the id/name wrong?')\n",
        "\n",
        "g_search_pokemon()"
      ],
      "metadata": {
        "id": "3FcrOH23OTaX"
      },
      "execution_count": null,
      "outputs": []
    }
  ]
}